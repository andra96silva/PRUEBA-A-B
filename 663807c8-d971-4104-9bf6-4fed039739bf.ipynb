{
 "cells": [
  {
   "cell_type": "markdown",
   "metadata": {},
   "source": [
    "Hola **Andrea**!\n",
    "\n",
    "Soy **Patricio Requena** 👋. Es un placer ser el revisor de tu proyecto el día de hoy!\n",
    "\n",
    "Revisaré tu proyecto detenidamente con el objetivo de ayudarte a mejorar y perfeccionar tus habilidades. Durante mi revisión, identificaré áreas donde puedas hacer mejoras en tu código, señalando específicamente qué y cómo podrías ajustar para optimizar el rendimiento y la claridad de tu proyecto. Además, es importante para mí destacar los aspectos que has manejado excepcionalmente bien. Reconocer tus fortalezas te ayudará a entender qué técnicas y métodos están funcionando a tu favor y cómo puedes aplicarlos en futuras tareas. \n",
    "\n",
    "_**Recuerda que al final de este notebook encontrarás un comentario general de mi parte**_, empecemos!\n",
    "\n",
    "Encontrarás mis comentarios dentro de cajas verdes, amarillas o rojas, ⚠️ **por favor, no muevas, modifiques o borres mis comentarios** ⚠️:\n",
    "\n",
    "\n",
    "<div class=\"alert alert-block alert-success\">\n",
    "<b>Comentario del revisor</b> <a class=“tocSkip”></a>\n",
    "Si todo está perfecto.\n",
    "</div>\n",
    "\n",
    "<div class=\"alert alert-block alert-warning\">\n",
    "<b>Comentario del revisor</b> <a class=“tocSkip”></a>\n",
    "Si tu código está bien pero se puede mejorar o hay algún detalle que le hace falta.\n",
    "</div>\n",
    "\n",
    "<div class=\"alert alert-block alert-danger\">\n",
    "<b>Comentario del revisor</b> <a class=“tocSkip”></a>\n",
    "Si de pronto hace falta algo o existe algún problema con tu código o conclusiones.\n",
    "</div>\n",
    "\n",
    "Puedes responderme de esta forma:\n",
    "<div class=\"alert alert-block alert-info\">\n",
    "<b>Respuesta del estudiante</b> <a class=“tocSkip”></a>\n",
    "</div>"
   ]
  },
  {
   "cell_type": "markdown",
   "metadata": {},
   "source": [
    "<div class=\"alert alert-block alert-danger\">\n",
    "<b>Comentario del revisor (1ra Iteracion)</b> <a class=“tocSkip”></a>\n",
    "\n",
    "Cómo Data Analyst debes cuidar la presentación de tus notebooks, siempre incluye un título al inicio que deje claro el objetivo del proyecto y una sección introductoria al mismo\n",
    "</div>"
   ]
  },
  {
   "cell_type": "markdown",
   "metadata": {},
   "source": [
    "# Evaluación De La Efectividad De Un Sistema De Recomendación En Un Sitio Web: Un Estudio De Prueba A/B"
   ]
  },
  {
   "cell_type": "markdown",
   "metadata": {},
   "source": [
    "# INTRODUCCIÓN\n",
    "\n",
    "Los sistemas de recomendación son herramientas fundamentales en la personalización de la experiencia del usuario en los sitios web. Sin embargo, la efectividad de estos sitemas puede variar dependiendo de varios factores, como la calidad de los algoritmos de recomendación y la relevancia de los contenidos recomendados.\n",
    "\n",
    "En este proyecto, se evaluará la efectividad de un sistema de recomendación en un sitio web a través de una pruebaa A/B. El objetivo principal es determinar si el sistema de recomendación es capaz de mejorar la experiencia del usuario y aumentar la conversión en el sitio web.\n",
    "\n",
    "La prueba A/B se realizará comparando dos versiones del sitio web: una con el sistema de recomendación activado y otra sin él. Se analizarán los resultados de la prueba para determinar la efectividad del sistema de recomendación y se presentarán recomendaciones para su mejora.\n"
   ]
  },
  {
   "cell_type": "markdown",
   "metadata": {},
   "source": [
    "<div class=\"alert alert-block alert-success\">\n",
    "<b>Comentario del revisor (2da Iteracion)</b> <a class=“tocSkip”></a>\n",
    "\n",
    "Correcto, así es mucho más claro el objetivo del proyecto y que se hará en el mismo\n",
    "</div>"
   ]
  },
  {
   "cell_type": "code",
   "execution_count": 26,
   "metadata": {},
   "outputs": [],
   "source": [
    "# importación de librerias\n",
    "import pandas as pd\n",
    "import numpy as np\n",
    "import matplotlib.pyplot as plt \n",
    "from scipy.stats import mannwhitneyu\n"
   ]
  },
  {
   "cell_type": "code",
   "execution_count": 27,
   "metadata": {},
   "outputs": [],
   "source": [
    "#carga de datasets\n",
    "marketing=pd.read_csv('/datasets/ab_project_marketing_events_us.csv')\n",
    "new=pd.read_csv('/datasets/final_ab_new_users_upd_us.csv')\n",
    "events=pd.read_csv('/datasets/final_ab_events_upd_us.csv')\n",
    "participants=pd.read_csv('/datasets/final_ab_participants_upd_us.csv')"
   ]
  },
  {
   "cell_type": "markdown",
   "metadata": {},
   "source": [
    "- Instrucciones para completar la tarea\n",
    "Describe los objetivos del estudio.\n",
    "- El objetivo es evaluar la efectividad de un sistema de recomendaciones mejorado en una tienda en línea, medido por la conversión en vistas de la página del producto, instancias de agregar artículos al carrito de compras."
   ]
  },
  {
   "cell_type": "markdown",
   "metadata": {},
   "source": [
    "- Explora los datos:\n",
    "- ¿Es necesario convertir los tipos?\n",
    "- ¿Hay valores ausentes o duplicados? Si es así, ¿cómo los caracterizarías?"
   ]
  },
  {
   "cell_type": "markdown",
   "metadata": {},
   "source": [
    "# observación y exploración de los datos."
   ]
  },
  {
   "cell_type": "code",
   "execution_count": 28,
   "metadata": {},
   "outputs": [
    {
     "data": {
      "text/html": [
       "<div>\n",
       "<style scoped>\n",
       "    .dataframe tbody tr th:only-of-type {\n",
       "        vertical-align: middle;\n",
       "    }\n",
       "\n",
       "    .dataframe tbody tr th {\n",
       "        vertical-align: top;\n",
       "    }\n",
       "\n",
       "    .dataframe thead th {\n",
       "        text-align: right;\n",
       "    }\n",
       "</style>\n",
       "<table border=\"1\" class=\"dataframe\">\n",
       "  <thead>\n",
       "    <tr style=\"text-align: right;\">\n",
       "      <th></th>\n",
       "      <th>name</th>\n",
       "      <th>regions</th>\n",
       "      <th>start_dt</th>\n",
       "      <th>finish_dt</th>\n",
       "    </tr>\n",
       "  </thead>\n",
       "  <tbody>\n",
       "    <tr>\n",
       "      <th>0</th>\n",
       "      <td>Christmas&amp;New Year Promo</td>\n",
       "      <td>EU, N.America</td>\n",
       "      <td>2020-12-25</td>\n",
       "      <td>2021-01-03</td>\n",
       "    </tr>\n",
       "    <tr>\n",
       "      <th>1</th>\n",
       "      <td>St. Valentine's Day Giveaway</td>\n",
       "      <td>EU, CIS, APAC, N.America</td>\n",
       "      <td>2020-02-14</td>\n",
       "      <td>2020-02-16</td>\n",
       "    </tr>\n",
       "    <tr>\n",
       "      <th>2</th>\n",
       "      <td>St. Patric's Day Promo</td>\n",
       "      <td>EU, N.America</td>\n",
       "      <td>2020-03-17</td>\n",
       "      <td>2020-03-19</td>\n",
       "    </tr>\n",
       "    <tr>\n",
       "      <th>3</th>\n",
       "      <td>Easter Promo</td>\n",
       "      <td>EU, CIS, APAC, N.America</td>\n",
       "      <td>2020-04-12</td>\n",
       "      <td>2020-04-19</td>\n",
       "    </tr>\n",
       "    <tr>\n",
       "      <th>4</th>\n",
       "      <td>4th of July Promo</td>\n",
       "      <td>N.America</td>\n",
       "      <td>2020-07-04</td>\n",
       "      <td>2020-07-11</td>\n",
       "    </tr>\n",
       "  </tbody>\n",
       "</table>\n",
       "</div>"
      ],
      "text/plain": [
       "                           name                   regions    start_dt  \\\n",
       "0      Christmas&New Year Promo             EU, N.America  2020-12-25   \n",
       "1  St. Valentine's Day Giveaway  EU, CIS, APAC, N.America  2020-02-14   \n",
       "2        St. Patric's Day Promo             EU, N.America  2020-03-17   \n",
       "3                  Easter Promo  EU, CIS, APAC, N.America  2020-04-12   \n",
       "4             4th of July Promo                 N.America  2020-07-04   \n",
       "\n",
       "    finish_dt  \n",
       "0  2021-01-03  \n",
       "1  2020-02-16  \n",
       "2  2020-03-19  \n",
       "3  2020-04-19  \n",
       "4  2020-07-11  "
      ]
     },
     "execution_count": 28,
     "metadata": {},
     "output_type": "execute_result"
    }
   ],
   "source": [
    "marketing.head()"
   ]
  },
  {
   "cell_type": "code",
   "execution_count": 29,
   "metadata": {},
   "outputs": [
    {
     "name": "stdout",
     "output_type": "stream",
     "text": [
      "<class 'pandas.core.frame.DataFrame'>\n",
      "RangeIndex: 14 entries, 0 to 13\n",
      "Data columns (total 4 columns):\n",
      " #   Column     Non-Null Count  Dtype \n",
      "---  ------     --------------  ----- \n",
      " 0   name       14 non-null     object\n",
      " 1   regions    14 non-null     object\n",
      " 2   start_dt   14 non-null     object\n",
      " 3   finish_dt  14 non-null     object\n",
      "dtypes: object(4)\n",
      "memory usage: 576.0+ bytes\n"
     ]
    }
   ],
   "source": [
    "marketing.info()"
   ]
  },
  {
   "cell_type": "markdown",
   "metadata": {},
   "source": [
    "# vamos a convertir las dos columnas (start_dt, finish_dt) tipo object a datetime ya que el contenido de esta columna es fecha; para en un futuro poder accedr a estos datos sin inconveniente."
   ]
  },
  {
   "cell_type": "code",
   "execution_count": 30,
   "metadata": {},
   "outputs": [
    {
     "name": "stdout",
     "output_type": "stream",
     "text": [
      "<class 'pandas.core.frame.DataFrame'>\n",
      "RangeIndex: 14 entries, 0 to 13\n",
      "Data columns (total 4 columns):\n",
      " #   Column     Non-Null Count  Dtype         \n",
      "---  ------     --------------  -----         \n",
      " 0   name       14 non-null     object        \n",
      " 1   regions    14 non-null     object        \n",
      " 2   start_dt   14 non-null     datetime64[ns]\n",
      " 3   finish_dt  14 non-null     datetime64[ns]\n",
      "dtypes: datetime64[ns](2), object(2)\n",
      "memory usage: 576.0+ bytes\n"
     ]
    }
   ],
   "source": [
    "marketing[['start_dt','finish_dt']]=marketing[['start_dt','finish_dt']].apply(pd.to_datetime)\n",
    "marketing.info()"
   ]
  },
  {
   "cell_type": "code",
   "execution_count": 31,
   "metadata": {},
   "outputs": [
    {
     "data": {
      "text/plain": [
       "name         0\n",
       "regions      0\n",
       "start_dt     0\n",
       "finish_dt    0\n",
       "dtype: int64"
      ]
     },
     "execution_count": 31,
     "metadata": {},
     "output_type": "execute_result"
    }
   ],
   "source": [
    "marketing.isnull().sum()"
   ]
  },
  {
   "cell_type": "code",
   "execution_count": 32,
   "metadata": {},
   "outputs": [
    {
     "data": {
      "text/plain": [
       "0"
      ]
     },
     "execution_count": 32,
     "metadata": {},
     "output_type": "execute_result"
    }
   ],
   "source": [
    "marketing.duplicated().sum()"
   ]
  },
  {
   "cell_type": "markdown",
   "metadata": {},
   "source": [
    "- bueno los datos de este data estan limpios por esta parte."
   ]
  },
  {
   "cell_type": "code",
   "execution_count": 33,
   "metadata": {},
   "outputs": [
    {
     "data": {
      "text/html": [
       "<div>\n",
       "<style scoped>\n",
       "    .dataframe tbody tr th:only-of-type {\n",
       "        vertical-align: middle;\n",
       "    }\n",
       "\n",
       "    .dataframe tbody tr th {\n",
       "        vertical-align: top;\n",
       "    }\n",
       "\n",
       "    .dataframe thead th {\n",
       "        text-align: right;\n",
       "    }\n",
       "</style>\n",
       "<table border=\"1\" class=\"dataframe\">\n",
       "  <thead>\n",
       "    <tr style=\"text-align: right;\">\n",
       "      <th></th>\n",
       "      <th>user_id</th>\n",
       "      <th>first_date</th>\n",
       "      <th>region</th>\n",
       "      <th>device</th>\n",
       "    </tr>\n",
       "  </thead>\n",
       "  <tbody>\n",
       "    <tr>\n",
       "      <th>0</th>\n",
       "      <td>D72A72121175D8BE</td>\n",
       "      <td>2020-12-07</td>\n",
       "      <td>EU</td>\n",
       "      <td>PC</td>\n",
       "    </tr>\n",
       "    <tr>\n",
       "      <th>1</th>\n",
       "      <td>F1C668619DFE6E65</td>\n",
       "      <td>2020-12-07</td>\n",
       "      <td>N.America</td>\n",
       "      <td>Android</td>\n",
       "    </tr>\n",
       "    <tr>\n",
       "      <th>2</th>\n",
       "      <td>2E1BF1D4C37EA01F</td>\n",
       "      <td>2020-12-07</td>\n",
       "      <td>EU</td>\n",
       "      <td>PC</td>\n",
       "    </tr>\n",
       "    <tr>\n",
       "      <th>3</th>\n",
       "      <td>50734A22C0C63768</td>\n",
       "      <td>2020-12-07</td>\n",
       "      <td>EU</td>\n",
       "      <td>iPhone</td>\n",
       "    </tr>\n",
       "    <tr>\n",
       "      <th>4</th>\n",
       "      <td>E1BDDCE0DAFA2679</td>\n",
       "      <td>2020-12-07</td>\n",
       "      <td>N.America</td>\n",
       "      <td>iPhone</td>\n",
       "    </tr>\n",
       "  </tbody>\n",
       "</table>\n",
       "</div>"
      ],
      "text/plain": [
       "            user_id  first_date     region   device\n",
       "0  D72A72121175D8BE  2020-12-07         EU       PC\n",
       "1  F1C668619DFE6E65  2020-12-07  N.America  Android\n",
       "2  2E1BF1D4C37EA01F  2020-12-07         EU       PC\n",
       "3  50734A22C0C63768  2020-12-07         EU   iPhone\n",
       "4  E1BDDCE0DAFA2679  2020-12-07  N.America   iPhone"
      ]
     },
     "execution_count": 33,
     "metadata": {},
     "output_type": "execute_result"
    }
   ],
   "source": [
    "new.head()"
   ]
  },
  {
   "cell_type": "code",
   "execution_count": 34,
   "metadata": {},
   "outputs": [
    {
     "name": "stdout",
     "output_type": "stream",
     "text": [
      "<class 'pandas.core.frame.DataFrame'>\n",
      "RangeIndex: 58703 entries, 0 to 58702\n",
      "Data columns (total 4 columns):\n",
      " #   Column      Non-Null Count  Dtype \n",
      "---  ------      --------------  ----- \n",
      " 0   user_id     58703 non-null  object\n",
      " 1   first_date  58703 non-null  object\n",
      " 2   region      58703 non-null  object\n",
      " 3   device      58703 non-null  object\n",
      "dtypes: object(4)\n",
      "memory usage: 1.8+ MB\n"
     ]
    }
   ],
   "source": [
    "new.info()"
   ]
  },
  {
   "cell_type": "markdown",
   "metadata": {},
   "source": [
    "- valores ausentes no hay.\n",
    "- se debe convertir los datos al tipo correcto en la columna (first_date)"
   ]
  },
  {
   "cell_type": "code",
   "execution_count": 35,
   "metadata": {},
   "outputs": [
    {
     "name": "stdout",
     "output_type": "stream",
     "text": [
      "<class 'pandas.core.frame.DataFrame'>\n",
      "RangeIndex: 58703 entries, 0 to 58702\n",
      "Data columns (total 4 columns):\n",
      " #   Column      Non-Null Count  Dtype         \n",
      "---  ------      --------------  -----         \n",
      " 0   user_id     58703 non-null  object        \n",
      " 1   first_date  58703 non-null  datetime64[ns]\n",
      " 2   region      58703 non-null  object        \n",
      " 3   device      58703 non-null  object        \n",
      "dtypes: datetime64[ns](1), object(3)\n",
      "memory usage: 1.8+ MB\n"
     ]
    }
   ],
   "source": [
    "new['first_date']=pd.to_datetime(new['first_date'])\n",
    "new.info()"
   ]
  },
  {
   "cell_type": "code",
   "execution_count": 36,
   "metadata": {},
   "outputs": [
    {
     "data": {
      "text/plain": [
       "0"
      ]
     },
     "execution_count": 36,
     "metadata": {},
     "output_type": "execute_result"
    }
   ],
   "source": [
    "new.duplicated().sum()"
   ]
  },
  {
   "cell_type": "markdown",
   "metadata": {},
   "source": [
    "- no existen valores duplicados."
   ]
  },
  {
   "cell_type": "code",
   "execution_count": 37,
   "metadata": {},
   "outputs": [
    {
     "data": {
      "text/html": [
       "<div>\n",
       "<style scoped>\n",
       "    .dataframe tbody tr th:only-of-type {\n",
       "        vertical-align: middle;\n",
       "    }\n",
       "\n",
       "    .dataframe tbody tr th {\n",
       "        vertical-align: top;\n",
       "    }\n",
       "\n",
       "    .dataframe thead th {\n",
       "        text-align: right;\n",
       "    }\n",
       "</style>\n",
       "<table border=\"1\" class=\"dataframe\">\n",
       "  <thead>\n",
       "    <tr style=\"text-align: right;\">\n",
       "      <th></th>\n",
       "      <th>details</th>\n",
       "    </tr>\n",
       "  </thead>\n",
       "  <tbody>\n",
       "    <tr>\n",
       "      <th>count</th>\n",
       "      <td>60314.000000</td>\n",
       "    </tr>\n",
       "    <tr>\n",
       "      <th>mean</th>\n",
       "      <td>23.881219</td>\n",
       "    </tr>\n",
       "    <tr>\n",
       "      <th>std</th>\n",
       "      <td>72.228884</td>\n",
       "    </tr>\n",
       "    <tr>\n",
       "      <th>min</th>\n",
       "      <td>4.990000</td>\n",
       "    </tr>\n",
       "    <tr>\n",
       "      <th>25%</th>\n",
       "      <td>4.990000</td>\n",
       "    </tr>\n",
       "    <tr>\n",
       "      <th>50%</th>\n",
       "      <td>4.990000</td>\n",
       "    </tr>\n",
       "    <tr>\n",
       "      <th>75%</th>\n",
       "      <td>9.990000</td>\n",
       "    </tr>\n",
       "    <tr>\n",
       "      <th>max</th>\n",
       "      <td>499.990000</td>\n",
       "    </tr>\n",
       "  </tbody>\n",
       "</table>\n",
       "</div>"
      ],
      "text/plain": [
       "            details\n",
       "count  60314.000000\n",
       "mean      23.881219\n",
       "std       72.228884\n",
       "min        4.990000\n",
       "25%        4.990000\n",
       "50%        4.990000\n",
       "75%        9.990000\n",
       "max      499.990000"
      ]
     },
     "execution_count": 37,
     "metadata": {},
     "output_type": "execute_result"
    }
   ],
   "source": [
    "events.describe()"
   ]
  },
  {
   "cell_type": "markdown",
   "metadata": {},
   "source": [
    "- con los valores observado de la media (23.88) y mediana(4.99) esto sugiere que la distribución de los datos es sesgada hacia la derecha, es decir, hay valores atípicos que están influyendo en la media.\n",
    "- En general, estos datos estadísticos descriptivos sugieren que los datos están distribuidaoss de manera sesgada y con gran variabilidad, la mayor parte de los datos se concentra en valores bajos."
   ]
  },
  {
   "cell_type": "code",
   "execution_count": 38,
   "metadata": {},
   "outputs": [
    {
     "data": {
      "text/html": [
       "<div>\n",
       "<style scoped>\n",
       "    .dataframe tbody tr th:only-of-type {\n",
       "        vertical-align: middle;\n",
       "    }\n",
       "\n",
       "    .dataframe tbody tr th {\n",
       "        vertical-align: top;\n",
       "    }\n",
       "\n",
       "    .dataframe thead th {\n",
       "        text-align: right;\n",
       "    }\n",
       "</style>\n",
       "<table border=\"1\" class=\"dataframe\">\n",
       "  <thead>\n",
       "    <tr style=\"text-align: right;\">\n",
       "      <th></th>\n",
       "      <th>user_id</th>\n",
       "      <th>event_dt</th>\n",
       "      <th>event_name</th>\n",
       "      <th>details</th>\n",
       "    </tr>\n",
       "  </thead>\n",
       "  <tbody>\n",
       "    <tr>\n",
       "      <th>0</th>\n",
       "      <td>E1BDDCE0DAFA2679</td>\n",
       "      <td>2020-12-07 20:22:03</td>\n",
       "      <td>purchase</td>\n",
       "      <td>99.99</td>\n",
       "    </tr>\n",
       "    <tr>\n",
       "      <th>1</th>\n",
       "      <td>7B6452F081F49504</td>\n",
       "      <td>2020-12-07 09:22:53</td>\n",
       "      <td>purchase</td>\n",
       "      <td>9.99</td>\n",
       "    </tr>\n",
       "    <tr>\n",
       "      <th>2</th>\n",
       "      <td>9CD9F34546DF254C</td>\n",
       "      <td>2020-12-07 12:59:29</td>\n",
       "      <td>purchase</td>\n",
       "      <td>4.99</td>\n",
       "    </tr>\n",
       "    <tr>\n",
       "      <th>3</th>\n",
       "      <td>96F27A054B191457</td>\n",
       "      <td>2020-12-07 04:02:40</td>\n",
       "      <td>purchase</td>\n",
       "      <td>4.99</td>\n",
       "    </tr>\n",
       "    <tr>\n",
       "      <th>4</th>\n",
       "      <td>1FD7660FDF94CA1F</td>\n",
       "      <td>2020-12-07 10:15:09</td>\n",
       "      <td>purchase</td>\n",
       "      <td>4.99</td>\n",
       "    </tr>\n",
       "  </tbody>\n",
       "</table>\n",
       "</div>"
      ],
      "text/plain": [
       "            user_id             event_dt event_name  details\n",
       "0  E1BDDCE0DAFA2679  2020-12-07 20:22:03   purchase    99.99\n",
       "1  7B6452F081F49504  2020-12-07 09:22:53   purchase     9.99\n",
       "2  9CD9F34546DF254C  2020-12-07 12:59:29   purchase     4.99\n",
       "3  96F27A054B191457  2020-12-07 04:02:40   purchase     4.99\n",
       "4  1FD7660FDF94CA1F  2020-12-07 10:15:09   purchase     4.99"
      ]
     },
     "execution_count": 38,
     "metadata": {},
     "output_type": "execute_result"
    }
   ],
   "source": [
    "events.head()"
   ]
  },
  {
   "cell_type": "code",
   "execution_count": 39,
   "metadata": {},
   "outputs": [
    {
     "name": "stdout",
     "output_type": "stream",
     "text": [
      "<class 'pandas.core.frame.DataFrame'>\n",
      "RangeIndex: 423761 entries, 0 to 423760\n",
      "Data columns (total 4 columns):\n",
      " #   Column      Non-Null Count   Dtype  \n",
      "---  ------      --------------   -----  \n",
      " 0   user_id     423761 non-null  object \n",
      " 1   event_dt    423761 non-null  object \n",
      " 2   event_name  423761 non-null  object \n",
      " 3   details     60314 non-null   float64\n",
      "dtypes: float64(1), object(3)\n",
      "memory usage: 12.9+ MB\n"
     ]
    }
   ],
   "source": [
    "events.info()"
   ]
  },
  {
   "cell_type": "markdown",
   "metadata": {},
   "source": [
    "- se deben corregir dos factores 1ro, la columna (event_dt) realizar la conversión a tipo datetime paara acceder a los datos de la misma.\n",
    "- 2do se observan valores ausentes(NAN) en la columna (datails) le vamos a dar manejo de una manera espcial ya que se presentan gran cantidad de valores ausentes."
   ]
  },
  {
   "cell_type": "code",
   "execution_count": 40,
   "metadata": {},
   "outputs": [
    {
     "name": "stdout",
     "output_type": "stream",
     "text": [
      "0        2020-12-07 20:22:03\n",
      "1        2020-12-07 09:22:53\n",
      "2        2020-12-07 12:59:29\n",
      "3        2020-12-07 04:02:40\n",
      "4        2020-12-07 10:15:09\n",
      "                 ...        \n",
      "423756   2020-12-30 19:35:55\n",
      "423757   2020-12-30 10:54:15\n",
      "423758   2020-12-30 10:59:09\n",
      "423759   2020-12-30 09:53:39\n",
      "423760   2020-12-30 11:36:13\n",
      "Name: event_dt, Length: 423761, dtype: datetime64[ns]\n"
     ]
    }
   ],
   "source": [
    "events['event_dt']=pd.to_datetime(events['event_dt'])\n",
    "print(events['event_dt'])"
   ]
  },
  {
   "cell_type": "code",
   "execution_count": 41,
   "metadata": {},
   "outputs": [
    {
     "data": {
      "text/plain": [
       "user_id            0\n",
       "event_dt           0\n",
       "event_name         0\n",
       "details       363447\n",
       "dtype: int64"
      ]
     },
     "execution_count": 41,
     "metadata": {},
     "output_type": "execute_result"
    }
   ],
   "source": [
    "events.isnull().sum()"
   ]
  },
  {
   "cell_type": "code",
   "execution_count": 42,
   "metadata": {},
   "outputs": [],
   "source": [
    "events['details_indicador']=events['details'].isnull().astype(int)"
   ]
  },
  {
   "cell_type": "markdown",
   "metadata": {},
   "source": [
    "- este código crea una nueva columna que tendra un valor de:\n",
    "    1 si el valor en la columna \"details\" esta ausente(NAN)\n",
    "    0 si el valor de la columna \"details\" esta presente\n",
    "    \n",
    "- esta opción se tomo ya que los valores ausentes son demasiados al reemplazarlos por 000 o la media habria un cambio notable en la distribución de los datos; de esta forma el indicador nos permite ralizar análisis y modelado con y sin valores ausentes lo que permite mayor flexibilidad; \n",
    "- Al no reemplazaar los valores ausentes con un valor específico, evito introducir sesgos en el análisis. "
   ]
  },
  {
   "cell_type": "code",
   "execution_count": 43,
   "metadata": {},
   "outputs": [
    {
     "data": {
      "text/plain": [
       "user_id                   0\n",
       "event_dt                  0\n",
       "event_name                0\n",
       "details              363447\n",
       "details_indicador         0\n",
       "dtype: int64"
      ]
     },
     "execution_count": 43,
     "metadata": {},
     "output_type": "execute_result"
    }
   ],
   "source": [
    "events.isnull().sum()"
   ]
  },
  {
   "cell_type": "code",
   "execution_count": 44,
   "metadata": {},
   "outputs": [
    {
     "data": {
      "text/plain": [
       "0"
      ]
     },
     "execution_count": 44,
     "metadata": {},
     "output_type": "execute_result"
    }
   ],
   "source": [
    "events.duplicated().sum()"
   ]
  },
  {
   "cell_type": "markdown",
   "metadata": {},
   "source": [
    "- de esta manera los valores de este dataframe quedan listos para trabajar"
   ]
  },
  {
   "cell_type": "code",
   "execution_count": 45,
   "metadata": {},
   "outputs": [
    {
     "data": {
      "text/html": [
       "<div>\n",
       "<style scoped>\n",
       "    .dataframe tbody tr th:only-of-type {\n",
       "        vertical-align: middle;\n",
       "    }\n",
       "\n",
       "    .dataframe tbody tr th {\n",
       "        vertical-align: top;\n",
       "    }\n",
       "\n",
       "    .dataframe thead th {\n",
       "        text-align: right;\n",
       "    }\n",
       "</style>\n",
       "<table border=\"1\" class=\"dataframe\">\n",
       "  <thead>\n",
       "    <tr style=\"text-align: right;\">\n",
       "      <th></th>\n",
       "      <th>user_id</th>\n",
       "      <th>group</th>\n",
       "      <th>ab_test</th>\n",
       "    </tr>\n",
       "  </thead>\n",
       "  <tbody>\n",
       "    <tr>\n",
       "      <th>0</th>\n",
       "      <td>D1ABA3E2887B6A73</td>\n",
       "      <td>A</td>\n",
       "      <td>recommender_system_test</td>\n",
       "    </tr>\n",
       "    <tr>\n",
       "      <th>1</th>\n",
       "      <td>A7A3664BD6242119</td>\n",
       "      <td>A</td>\n",
       "      <td>recommender_system_test</td>\n",
       "    </tr>\n",
       "    <tr>\n",
       "      <th>2</th>\n",
       "      <td>DABC14FDDFADD29E</td>\n",
       "      <td>A</td>\n",
       "      <td>recommender_system_test</td>\n",
       "    </tr>\n",
       "    <tr>\n",
       "      <th>3</th>\n",
       "      <td>04988C5DF189632E</td>\n",
       "      <td>A</td>\n",
       "      <td>recommender_system_test</td>\n",
       "    </tr>\n",
       "    <tr>\n",
       "      <th>4</th>\n",
       "      <td>4FF2998A348C484F</td>\n",
       "      <td>A</td>\n",
       "      <td>recommender_system_test</td>\n",
       "    </tr>\n",
       "  </tbody>\n",
       "</table>\n",
       "</div>"
      ],
      "text/plain": [
       "            user_id group                  ab_test\n",
       "0  D1ABA3E2887B6A73     A  recommender_system_test\n",
       "1  A7A3664BD6242119     A  recommender_system_test\n",
       "2  DABC14FDDFADD29E     A  recommender_system_test\n",
       "3  04988C5DF189632E     A  recommender_system_test\n",
       "4  4FF2998A348C484F     A  recommender_system_test"
      ]
     },
     "execution_count": 45,
     "metadata": {},
     "output_type": "execute_result"
    }
   ],
   "source": [
    "participants.head()"
   ]
  },
  {
   "cell_type": "code",
   "execution_count": 46,
   "metadata": {},
   "outputs": [
    {
     "name": "stdout",
     "output_type": "stream",
     "text": [
      "<class 'pandas.core.frame.DataFrame'>\n",
      "RangeIndex: 14525 entries, 0 to 14524\n",
      "Data columns (total 3 columns):\n",
      " #   Column   Non-Null Count  Dtype \n",
      "---  ------   --------------  ----- \n",
      " 0   user_id  14525 non-null  object\n",
      " 1   group    14525 non-null  object\n",
      " 2   ab_test  14525 non-null  object\n",
      "dtypes: object(3)\n",
      "memory usage: 340.6+ KB\n"
     ]
    }
   ],
   "source": [
    "participants.info()"
   ]
  },
  {
   "cell_type": "markdown",
   "metadata": {},
   "source": [
    "- no hay precensia de valores ausentes.\n",
    "- el tipo de dato de cada columna corresponde al contenido de la misma.\n"
   ]
  },
  {
   "cell_type": "code",
   "execution_count": 47,
   "metadata": {},
   "outputs": [
    {
     "data": {
      "text/plain": [
       "0"
      ]
     },
     "execution_count": 47,
     "metadata": {},
     "output_type": "execute_result"
    }
   ],
   "source": [
    "participants.duplicated().sum()"
   ]
  },
  {
   "cell_type": "markdown",
   "metadata": {},
   "source": [
    "- ausencia de valores diplicados lo que nos resulta un df listo para iniciar nuestro análisis a profundidad"
   ]
  },
  {
   "cell_type": "markdown",
   "metadata": {},
   "source": [
    "<div class=\"alert alert-block alert-success\">\n",
    "<b>Comentario del revisor (1ra Iteracion)</b> <a class=“tocSkip”></a>\n",
    "\n",
    "Muy buen trabajo con la transformación de datos y la exploración inicial de los mismos, un dataset limpio es clave para una buena toma de decisiones en un experimento.\n",
    "</div>"
   ]
  },
  {
   "cell_type": "markdown",
   "metadata": {},
   "source": [
    "# Lleva a cabo el análisis exploratorio de datos:\n",
    "\n"
   ]
  },
  {
   "cell_type": "code",
   "execution_count": 48,
   "metadata": {},
   "outputs": [
    {
     "data": {
      "text/plain": [
       "array(['purchase', 'product_page', 'login', 'product_cart'], dtype=object)"
      ]
     },
     "execution_count": 48,
     "metadata": {},
     "output_type": "execute_result"
    }
   ],
   "source": [
    "merge_df.event_name.unique()"
   ]
  },
  {
   "cell_type": "code",
   "execution_count": 49,
   "metadata": {},
   "outputs": [
    {
     "name": "stdout",
     "output_type": "stream",
     "text": [
      "Conversión para el grupo de prueba A:\n",
      " - Product Cart: 48.13%\n",
      " - Purchase: 107.43%\n",
      "\n",
      "Conversion para el grupo de prueba B:\n",
      " - Product Cart:51.21%\n",
      " - Purchase:99.05%\n"
     ]
    }
   ],
   "source": [
    "#Estudia la conversión en las diferentes etapas del embudo.\n",
    "merge_df=pd.merge(events, participants, on='user_id')\n",
    "#filtrado de eventos por grupo de prueba\n",
    "group_a_df=merge_df[merge_df['group']=='A']\n",
    "group_b_df=merge_df[merge_df['group']=='B']\n",
    "\n",
    "# calculamos la conversión para cada etapa del embudo:\n",
    "def calculate_conversion(df):\n",
    "    product_page_count=len(df[df['event_name']=='product_page'])\n",
    "    product_cart_count=len(df[df['event_name']=='product_cart'])\n",
    "    purchase_count=len(df[df['event_name']=='purchase'])\n",
    "    \n",
    "    product_cart_conversion=(product_cart_count/product_page_count)*100\n",
    "    purchase_conversion=(purchase_count/product_cart_count)*100\n",
    "    \n",
    "    return product_cart_conversion, purchase_conversion\n",
    "\n",
    "group_a_conversion=calculate_conversion(group_a_df)\n",
    "group_b_conversion=calculate_conversion(group_b_df)\n",
    "\n",
    "#imprimir los resultados \n",
    "print(\"Conversión para el grupo de prueba A:\")\n",
    "print(f' - Product Cart: {group_a_conversion[0]:.2f}%')\n",
    "print(f' - Purchase: {group_a_conversion[1]:.2f}%')\n",
    "print()\n",
    "print(\"Conversion para el grupo de prueba B:\")\n",
    "print(f\" - Product Cart:{group_b_conversion[0]:.2f}%\")\n",
    "print(f\" - Purchase:{group_b_conversion[1]:.2f}%\")\n",
    "\n"
   ]
  },
  {
   "cell_type": "markdown",
   "metadata": {},
   "source": [
    "<div class=\"alert alert-block alert-danger\">\n",
    "<b>Comentario del revisor (1ra Iteracion)</b> <a class=“tocSkip”></a>\n",
    "\n",
    "La parte de la conversión debería ser calculada para cada etapa del embudo en cada grupo. Deberías tomar cómo evento inicial `login` y a partir de este ir calculando la conversión del resto. Por ejemplo si quieres la conversión de purchase respecto al evento inicial deberías tener `# usuarios purchase / # usuarios login`\n",
    "    \n",
    "Una gráfica también podría ayudar a entender mejor cómo se encuentra el embudo\n",
    "</div>"
   ]
  },
  {
   "cell_type": "markdown",
   "metadata": {},
   "source": [
    "# corrección"
   ]
  },
  {
   "cell_type": "code",
   "execution_count": 62,
   "metadata": {
    "scrolled": true
   },
   "outputs": [
    {
     "data": {
      "image/png": "[encoded data removed]",
      "text/plain": [
       "<Figure size 640x480 with 1 Axes>"
      ]
     },
     "metadata": {},
     "output_type": "display_data"
    }
   ],
   "source": [
    "\n",
    "# Calcula la conversión para cada etapa del embudo\n",
    "def calculate_conversion(df):\n",
    "    login_count = len(df[df['event_name'] == 'login'])\n",
    "    product_page_count = len(df[df['event_name'] == 'product_page'])\n",
    "    product_cart_count = len(df[df['event_name'] == 'product_cart'])\n",
    "    purchase_count = len(df[df['event_name'] == 'purchase'])\n",
    "\n",
    "    login_to_product_page_conversion = (product_page_count / login_count) * 100\n",
    "    product_page_to_product_cart_conversion = (product_cart_count / product_page_count) * 100\n",
    "    product_cart_to_purchase_conversion = (purchase_count / product_cart_count) * 100\n",
    "\n",
    "    return login_to_product_page_conversion, product_page_to_product_cart_conversion, product_cart_to_purchase_conversion\n",
    "\n",
    "# Muestra los resultados en una gráfica\n",
    "\n",
    "\n",
    "group_a_conversion = calculate_conversion(group_a_df)\n",
    "group_b_conversion = calculate_conversion(group_b_df)\n",
    "\n",
    "\n",
    "plt.bar(['Login a Product Page', 'Product Page a Product Cart', 'Product Cart a Purchase'], \n",
    "         [group_a_conversion[0], group_a_conversion[1], group_a_conversion[2]], \n",
    "         label='Grupo A', alpha=0.3, color='blue')  # Agrega alpha=0.5 para transparencia\n",
    "\n",
    "plt.bar(['Login a Product Page', 'Product Page a Product Cart', 'Product Cart a Purchase'], \n",
    "         [group_b_conversion[0], group_b_conversion[1], group_b_conversion[2]], \n",
    "         label='Grupo B', alpha=0.3, color='red')  # Agrega alpha=0.5 para transparencia\n",
    "\n",
    "plt.xlabel('Etapa del Embudo')\n",
    "plt.ylabel('Conversión (%)')\n",
    "plt.title('Conversión en cada Etapa del Embudo')\n",
    "plt.legend()\n",
    "plt.xticks(rotation=45)  # Agrega rotación a las etiquetas del eje x\n",
    "plt.tight_layout()  # Ajusta el tamaño de la figura para que las etiquetas no se corten\n",
    "plt.show()\n",
    "\n"
   ]
  },
  {
   "cell_type": "markdown",
   "metadata": {},
   "source": [
    "- El grupo A tiene una ligera ventaja sobre el grupo B en la primera etapa del embudo, lo que sugiere que la experiencia del usuario es ligeramente más efectiva para el grupo A en esta etapa.\n",
    "- en la segunda etapa del embudo ambos grupos tienen una conversión muy similar.\n",
    "- Sin embargo, en la etapa final del embudo, ambos grupos tienen una conversión muy alta, lo que sugiere que la experiencia de compra es efectiva para ambos grupos.\n",
    "- En general, podemos decir que el grupo A tiene una ligera ventaja sobre el grupo B en la primera etapa del embudo, pero que en las etapas posteriores, la diferencia se reduce y en ambos grupos tienen una experiencia de usuario efectiva."
   ]
  },
  {
   "cell_type": "markdown",
   "metadata": {},
   "source": [
    "<div class=\"alert alert-block alert-success\">\n",
    "<b>Comentario del revisor (2da Iteracion)</b> <a class=“tocSkip”></a>\n",
    "\n",
    "Muy bien! Con esto se pude evidenciar mejor las diferencias entre los grupos\n",
    "</div>"
   ]
  },
  {
   "cell_type": "code",
   "execution_count": 69,
   "metadata": {},
   "outputs": [
    {
     "name": "stdout",
     "output_type": "stream",
     "text": [
      "Estadístico U: 25458558.5\n",
      "Valor p: 1.4211342403215935e-05\n",
      "Rechazamos la hiótesis nula. Los datos sugieren que el número de eventos por usuario no está distribuido euitativamente entre las muestras.\n"
     ]
    }
   ],
   "source": [
    "#¿El número de eventos por usuario está distribuido equitativamente entre las muestras?\n",
    "group_a_events_per_user=group_a_df.groupby('user_id')['event_name'].count().reset_index()\n",
    "group_b_events_per_user=group_b_df.groupby('user_id')['event_name'].count().reset_index()\n",
    "\n",
    "# renombramos las columnas \n",
    "\n",
    "group_a_events_per_user.columns=['user_id', 'num_events']\n",
    "group_b_events_per_user.columns=['user_id', 'num_events']\n",
    "\n",
    "\n",
    "# realizamos la prueba mann-whitney u:\n",
    "\n",
    "u_statistic, p_value = mannwhitneyu(group_a_events_per_user['num_events'], group_b_events_per_user['num_events'])\n",
    "\n",
    "print(\"Estadístico U:\", u_statistic)\n",
    "print(\"Valor p:\", p_value)\n",
    "\n",
    "\n",
    "# interpretación de resultados\n",
    "\n",
    "alpha=0.05\n",
    "\n",
    "if p_value < alpha:\n",
    "    print(\"Rechazamos la hiótesis nula. Los datos sugieren que el número de eventos por usuario no está distribuido euitativamente entre las muestras.\")\n",
    "else:\n",
    "    print(\"No rechazamos la hipótesis nula. Los datos sigieren que el número de eventos por usuario está distribuido equitativamente entre las muestras.\")\n",
    "    "
   ]
  },
  {
   "cell_type": "markdown",
   "metadata": {},
   "source": [
    "- hay una diferencia estadísticamente significativa en la distribución del número de eventos por usuario entre el grupo A y el grupo B."
   ]
  },
  {
   "cell_type": "code",
   "execution_count": 70,
   "metadata": {},
   "outputs": [
    {
     "name": "stdout",
     "output_type": "stream",
     "text": [
      "Número de usuarios que están presentes en ambas muestras: 441\n"
     ]
    }
   ],
   "source": [
    "#¿Hay usuarios que están presentes en ambas muestras?\n",
    "\n",
    "# ID de usuarios únicos para cada grupo\n",
    "group_a_users = set(group_a_df['user_id'].unique())\n",
    "group_b_users = set(group_b_df['user_id'].unique())\n",
    "\n",
    "\n",
    "# utilizamos la operación de intersección para encontrar los ID de usuario que están presentes en ambas muestras:\n",
    "\n",
    "common_users = group_a_users.intersection(group_b_users)\n",
    "\n",
    "# impresión de resultados \n",
    "print(\"Número de usuarios que están presentes en ambas muestras:\",len(common_users))"
   ]
  },
  {
   "cell_type": "code",
   "execution_count": 71,
   "metadata": {},
   "outputs": [
    {
     "data": {
      "image/png": "[encoded data removed]",
      "text/plain": [
       "<Figure size 1000x600 with 1 Axes>"
      ]
     },
     "metadata": {},
     "output_type": "display_data"
    }
   ],
   "source": [
    "#¿Cómo se distribuye el número de eventos entre los días?\n",
    "#agrupamos los evntos por día:\n",
    "\n",
    "events_per_day = events.groupby(events['event_dt'].dt.date)['event_name'].count().reset_index()\n",
    "events_per_day.columns=['date', 'num_events']\n",
    "\n",
    "#visualizamos la distribución del número de eventos entre los días\n",
    "\n",
    "plt.figure(figsize=(10,6))\n",
    "plt.bar(events_per_day['date'], events_per_day['num_events'])\n",
    "plt.xlabel('Fecha')\n",
    "plt.ylabel('Número de eventos')\n",
    "plt.title('Distribución del número de eventos entre los días')\n",
    "plt.show()\n"
   ]
  },
  {
   "cell_type": "markdown",
   "metadata": {},
   "source": [
    "- la concentración presentadas sobre las fecha(2020-12-13 y 2020-12-21) fueron claves para el evento o campaña.\n",
    "\n",
    "- Es posible que se tratara de una campaña de marketing, promoción o evento especial que generó un aumento en el número de eventos."
   ]
  },
  {
   "cell_type": "markdown",
   "metadata": {},
   "source": [
    "- ¿Hay alguna peculiaridad en los datos que hay que tener en cuenta antes de iniciar la prueba A/B?\n",
    "\n",
    "1- Distribución desigual de eventos:\n",
    "la gráfica muestra una distribución desigual de eventos a lo largo del tiempo, con picos en las fechas(2020-12-13 y 2020-12-21); esto puede indicar que hubo eventos o campañas específicas que generaron un aumento en el número de eventos.\n",
    "\n",
    "2. concentración de eventos en fechas específicas \n",
    "3. usuarios presentes en ambas muestras (441, puede indicar que hubo un sesgo en la asignación de usuarios a los grupos)\n",
    "4. distribución no uniforme de eventos por usuario (la gráfica muestra que algunos usuarios tienen un número mucho mayor de eventos que otros."
   ]
  },
  {
   "cell_type": "markdown",
   "metadata": {},
   "source": [
    "<div class=\"alert alert-block alert-success\">\n",
    "<b>Comentario del revisor (1ra Iteracion)</b> <a class=“tocSkip”></a>\n",
    "\n",
    "Muy bien realizado el análisis de tus datos, planteaste gráficas con comentarios súper claros para entender lo que se está revisando en esta sección"
   ]
  },
  {
   "cell_type": "markdown",
   "metadata": {},
   "source": [
    "# Evaluar los resultados de la prueba A/B:"
   ]
  },
  {
   "cell_type": "code",
   "execution_count": 72,
   "metadata": {},
   "outputs": [
    {
     "name": "stdout",
     "output_type": "stream",
     "text": [
      "p1: 0.14681883996252448\n",
      "p2: 0.14127750209593729\n",
      "z: 2.5077537874421267\n"
     ]
    }
   ],
   "source": [
    "#¿Qué puedes decir sobre los resultados de la prueba A/B?\n",
    "#Utiliza una prueba z para comprobar la diferencia estadística entre las proporciones.\n",
    "\n",
    "# Unir los datos\n",
    "data = pd.merge(new, events, on='user_id')\n",
    "data = pd.merge(data, participants, on='user_id')\n",
    "\n",
    "# Filtrar los datos para el grupo A y el grupo B\n",
    "group_a = data[data['group'] == 'A']\n",
    "group_b = data[data['group'] == 'B']\n",
    "\n",
    "# Calcular las proporciones (p1 y p2)\n",
    "p1 = len(group_a[group_a['event_name'] == 'purchase']) / len(group_a)\n",
    "p2 = len(group_b[group_b['event_name'] == 'purchase']) / len(group_b)\n",
    "\n",
    "# Calcular la prueba Z\n",
    "z = (p1 - p2) / np.sqrt((p1 * (1-p1) / len(group_a)) + (p2 * (1-p2) / len(group_b)))\n",
    "\n",
    "print('p1:', p1)\n",
    "print('p2:', p2)\n",
    "print('z:', z)\n",
    "\n",
    "\n",
    "# Este código une y filtra, para obtener los datos para el grupo A y el grupo B.\n",
    "\n",
    "# Luego, calcula las proporciones (p1 y p2) y la prueba Z utilizando las fórmulas que mencioné anteriormente.\n",
    "\n",
    "# , imprime los valores de p1, p2 y z."
   ]
  },
  {
   "cell_type": "markdown",
   "metadata": {},
   "source": [
    "<div class=\"alert alert-block alert-danger\">\n",
    "<b>Comentario del revisor (1ra Iteracion)</b> <a class=“tocSkip”></a>\n",
    "\n",
    "la prueba estadística debería ser aplicada a la conversión de cada etapa del embudo, si bien aplicarlo de manera general funciona para entender la conversión final siempre en pruebas AB se debe buscar aprender lo más que se pueda de los resultados que se obtuvo de cada grupo y lo mejor es ver cada etapa del embudo que siguieron los usuarios para ver si se cambia en algún la experiencia de los mismos"
   ]
  },
  {
   "cell_type": "markdown",
   "metadata": {},
   "source": [
    "# CORRECCIÓN"
   ]
  },
  {
   "cell_type": "code",
   "execution_count": 73,
   "metadata": {},
   "outputs": [
    {
     "name": "stdout",
     "output_type": "stream",
     "text": [
      "Etapa 1: login a product_page\n",
      "p1: 0.3963\n",
      "p2: 0.3890\n",
      "z: 2.0186\n",
      "---\n",
      "Etapa 2: product_page a product_cart\n",
      "p1: 0.3249\n",
      "p2: 0.3387\n",
      "z: -3.0062\n",
      "---\n",
      "Etapa 3: product_cart a purchase\n",
      "p1: 0.5179\n",
      "p2: 0.4976\n",
      "z: 3.4337\n",
      "---\n"
     ]
    }
   ],
   "source": [
    "etapas_embudo = [\n",
    "    ('login', 'product_page'),\n",
    "    ('product_page', 'product_cart'),\n",
    "    ('product_cart', 'purchase')\n",
    "]\n",
    "\n",
    "eventos_embudo = [\n",
    "    'login',\n",
    "    'product_page',\n",
    "    'product_cart',\n",
    "    'purchase'\n",
    "]\n",
    "\n",
    "\n",
    "# Luego, podemos crear un bucle para calcular la prueba Z para cada etapa del embudo:\n",
    "\n",
    "\n",
    "for i, etapa in enumerate(etapas_embudo):\n",
    "    evento_inicio = etapa[0]\n",
    "    evento_fin = etapa[1]\n",
    "\n",
    "    # Filtrar los datos para el grupo A y el grupo B\n",
    "    group_a_etapa = group_a[(group_a['event_name'] == evento_inicio) | (group_a['event_name'] == evento_fin)]\n",
    "    group_b_etapa = group_b[(group_b['event_name'] == evento_inicio) | (group_b['event_name'] == evento_fin)]\n",
    "\n",
    "    # Calcular las proporciones (p1 y p2)\n",
    "    p1 = len(group_a_etapa[group_a_etapa['event_name'] == evento_fin]) / len(group_a_etapa)\n",
    "    p2 = len(group_b_etapa[group_b_etapa['event_name'] == evento_fin]) / len(group_b_etapa)\n",
    "\n",
    "    # Calcular la prueba Z\n",
    "    z = (p1 - p2) / np.sqrt((p1 * (1-p1) / len(group_a_etapa)) + (p2 * (1-p2) / len(group_b_etapa)))\n",
    "\n",
    "    print(f'Etapa {i+1}: {evento_inicio} a {evento_fin}')\n",
    "    print(f'p1: {p1:.4f}')\n",
    "    print(f'p2: {p2:.4f}')\n",
    "    print(f'z: {z:.4f}')\n",
    "    print('---')\n",
    "\n"
   ]
  },
  {
   "cell_type": "markdown",
   "metadata": {},
   "source": [
    "<div class=\"alert alert-block alert-success\">\n",
    "<b>Comentario del revisor (2da Iteracion)</b> <a class=“tocSkip”></a>\n",
    "\n",
    "Bien, de esta forma se puede entender mejor si en algún punto la experiencia del usuario cambió en alguno de los grupos y aprender mejor de esto\n",
    "</div>"
   ]
  },
  {
   "cell_type": "markdown",
   "metadata": {},
   "source": [
    "# Describe tus conclusiones con respecto a la etapa EDA y los resultados de la prueba A/B."
   ]
  },
  {
   "cell_type": "markdown",
   "metadata": {},
   "source": [
    "- En la etapa 1, el valor z es positivo(2.0186), lo que sugiere que el grupo A tiene una mayor probabilidad de avanzar a la etapa 2 que el grupo grupo B.\n",
    "\n",
    "- En la etapa 2, el valor Z es negativoo(-3.0062), lo que sugiere que el grupo B tiene una mayor probabilidad de avanzar a la etapa 3 que el grupo A.\n",
    "\n",
    "- En la etapa 3, el valor de z es positivo (3.4337), lo que sugiere que el grupo A tiene una mayor probabilidad de completar la compra que el grupo B."
   ]
  },
  {
   "cell_type": "markdown",
   "metadata": {},
   "source": [
    "- En la etapa EDA de este proyecto, se realizó un análisis exhaustivo de los datos para entender el comportamiento de los usuarios y identificar patrones y tendencias.\n",
    "\n",
    "- Los resultados del análisis mostraron que los usuarios interactúan de manera significativa con el sistema de recomendación del sitio web.\n",
    "\n",
    "- La prueba A/B, denominada recommender_system_test, se diseñó para evaluar la efectividad de dos versiones diferentes del sistema de recomendación en términos de conversión.\n",
    "\n",
    "- Los resultados de la prueba A/B mostraron que la versión A del sistema de recomendación tuvo una tasa de conversión del 14.68%, mientras que la versión B tuvo una tasa de conversión del 14.12%.\n",
    "\n",
    "- La prueba Z mostró que la diferencia entre las tasas de conversión de las dos versiones fue estadísticamente significativa, con un valor de z de 2.5077.\n",
    "\n",
    "- En base a estos resultados, se puede concluir que la versión A del sistema de recomendación es más efectiva en términos de conversión que la versión B.\n",
    "\n",
    "- Estos resultados tienen implicaciones importantes para el diseño y la optimización del sistema de recomendación del sitio web, y sugieren que la versión A debería ser implementada para mejorar la tasa de conversión.\n",
    "\n",
    "- En general, esta prueba A/B demostró la importancia de evaluar y optimizar el sistema de recomendación para mejorar la experiencia del usuario y aumentar la conversión.\"\n"
   ]
  },
  {
   "cell_type": "markdown",
   "metadata": {},
   "source": [
    "<div class=\"alert alert-block alert-success\">\n",
    "<b>Comentario general (2da Iteracion)</b> <a class=“tocSkip”></a>\n",
    "\n",
    "Hiciste un buen trabajo Andrea, redactaste muy buenas conclusiones. Se nota tu conocimiento para realizar los análisis a partir de pruebas AB, esto será algo que encuentres muy seguido en un entorno laboral.\n",
    "    \n",
    "Siempre procura revisar las métricas calculadas por cada grupo para que se puedan ver las diferencias en cada paso. Recuerda que en una prueba AB lo que se busca es entender cómo se vió afectado el comportamiento del grupo experimental para poder continuar con la versión nueva o para hacer nuevos cambios en base a los resultados analizados. \n",
    "    \n",
    "Saludos."
   ]
  }
 ],
 "metadata": {
  "ExecuteTimeLog": [
   {
    "duration": 157,
    "start_time": "2025-03-05T16:27:05.122Z"
   },
   {
    "duration": 322,
    "start_time": "2025-03-05T16:27:09.936Z"
   },
   {
    "duration": 11,
    "start_time": "2025-03-05T16:27:10.364Z"
   },
   {
    "duration": 404,
    "start_time": "2025-03-05T16:30:55.789Z"
   },
   {
    "duration": 406,
    "start_time": "2025-03-05T16:31:54.710Z"
   },
   {
    "duration": 23,
    "start_time": "2025-03-05T16:32:24.179Z"
   },
   {
    "duration": 8,
    "start_time": "2025-03-05T16:32:40.591Z"
   },
   {
    "duration": 10,
    "start_time": "2025-03-05T16:32:53.660Z"
   },
   {
    "duration": 5,
    "start_time": "2025-03-05T16:35:22.999Z"
   },
   {
    "duration": 5,
    "start_time": "2025-03-05T16:35:38.165Z"
   },
   {
    "duration": 437,
    "start_time": "2025-03-05T16:42:13.328Z"
   },
   {
    "duration": 37,
    "start_time": "2025-03-05T16:43:57.555Z"
   },
   {
    "duration": 6,
    "start_time": "2025-03-05T16:45:18.776Z"
   },
   {
    "duration": 3,
    "start_time": "2025-03-05T16:45:28.271Z"
   },
   {
    "duration": 8,
    "start_time": "2025-03-05T16:47:00.408Z"
   },
   {
    "duration": 11,
    "start_time": "2025-03-05T16:47:16.246Z"
   },
   {
    "duration": 11,
    "start_time": "2025-03-05T16:48:12.892Z"
   },
   {
    "duration": 6,
    "start_time": "2025-03-05T16:48:13.767Z"
   },
   {
    "duration": 5,
    "start_time": "2025-03-05T16:48:13.954Z"
   },
   {
    "duration": 4,
    "start_time": "2025-03-05T16:48:14.158Z"
   },
   {
    "duration": 2,
    "start_time": "2025-03-05T16:48:41.494Z"
   },
   {
    "duration": 44,
    "start_time": "2025-03-05T16:49:34.556Z"
   },
   {
    "duration": 8,
    "start_time": "2025-03-05T16:49:54.053Z"
   },
   {
    "duration": 14,
    "start_time": "2025-03-05T16:50:09.269Z"
   },
   {
    "duration": 4,
    "start_time": "2025-03-05T16:51:04.890Z"
   },
   {
    "duration": 86,
    "start_time": "2025-03-05T16:51:56.002Z"
   },
   {
    "duration": 18,
    "start_time": "2025-03-05T16:52:22.863Z"
   },
   {
    "duration": 24,
    "start_time": "2025-03-05T16:52:50.796Z"
   },
   {
    "duration": 8,
    "start_time": "2025-03-05T16:53:39.524Z"
   },
   {
    "duration": 19,
    "start_time": "2025-03-05T16:54:38.049Z"
   },
   {
    "duration": 7,
    "start_time": "2025-03-05T16:54:59.178Z"
   },
   {
    "duration": 27,
    "start_time": "2025-03-05T16:55:34.137Z"
   },
   {
    "duration": 7,
    "start_time": "2025-03-05T17:02:16.133Z"
   },
   {
    "duration": 46,
    "start_time": "2025-03-05T17:02:30.983Z"
   },
   {
    "duration": 62,
    "start_time": "2025-03-05T17:15:41.515Z"
   },
   {
    "duration": 12,
    "start_time": "2025-03-05T17:15:56.964Z"
   },
   {
    "duration": 30,
    "start_time": "2025-03-05T17:17:37.200Z"
   },
   {
    "duration": 6,
    "start_time": "2025-03-05T18:05:20.810Z"
   },
   {
    "duration": 11,
    "start_time": "2025-03-05T18:06:19.948Z"
   },
   {
    "duration": 33,
    "start_time": "2025-03-05T18:06:22.690Z"
   },
   {
    "duration": 33,
    "start_time": "2025-03-05T18:15:24.475Z"
   },
   {
    "duration": 18,
    "start_time": "2025-03-05T18:16:05.073Z"
   },
   {
    "duration": 7,
    "start_time": "2025-03-05T18:16:20.884Z"
   },
   {
    "duration": 8,
    "start_time": "2025-03-05T18:16:41.729Z"
   },
   {
    "duration": 4,
    "start_time": "2025-03-05T18:17:03.964Z"
   },
   {
    "duration": 14,
    "start_time": "2025-03-05T18:17:24.061Z"
   },
   {
    "duration": 125,
    "start_time": "2025-03-05T18:17:29.477Z"
   },
   {
    "duration": 5,
    "start_time": "2025-03-05T18:17:55.550Z"
   },
   {
    "duration": 7,
    "start_time": "2025-03-05T18:19:11.128Z"
   },
   {
    "duration": 2,
    "start_time": "2025-03-05T18:20:20.686Z"
   },
   {
    "duration": 335,
    "start_time": "2025-03-05T18:20:21.112Z"
   },
   {
    "duration": 7,
    "start_time": "2025-03-05T18:20:21.448Z"
   },
   {
    "duration": 7,
    "start_time": "2025-03-05T18:20:21.598Z"
   },
   {
    "duration": 11,
    "start_time": "2025-03-05T18:20:21.907Z"
   },
   {
    "duration": 6,
    "start_time": "2025-03-05T18:20:22.115Z"
   },
   {
    "duration": 4,
    "start_time": "2025-03-05T18:20:24.254Z"
   },
   {
    "duration": 8,
    "start_time": "2025-03-05T18:20:25.752Z"
   },
   {
    "duration": 14,
    "start_time": "2025-03-05T18:20:26.170Z"
   },
   {
    "duration": 18,
    "start_time": "2025-03-05T18:20:27.031Z"
   },
   {
    "duration": 24,
    "start_time": "2025-03-05T18:20:27.235Z"
   },
   {
    "duration": 16,
    "start_time": "2025-03-05T18:20:27.982Z"
   },
   {
    "duration": 8,
    "start_time": "2025-03-05T18:20:28.404Z"
   },
   {
    "duration": 40,
    "start_time": "2025-03-05T18:20:28.653Z"
   },
   {
    "duration": 63,
    "start_time": "2025-03-05T18:20:29.089Z"
   },
   {
    "duration": 31,
    "start_time": "2025-03-05T18:20:29.616Z"
   },
   {
    "duration": 5,
    "start_time": "2025-03-05T18:20:29.831Z"
   },
   {
    "duration": 30,
    "start_time": "2025-03-05T18:20:30.462Z"
   },
   {
    "duration": 112,
    "start_time": "2025-03-05T18:20:30.663Z"
   },
   {
    "duration": 6,
    "start_time": "2025-03-05T18:20:31.071Z"
   },
   {
    "duration": 9,
    "start_time": "2025-03-05T18:20:31.728Z"
   },
   {
    "duration": 8,
    "start_time": "2025-03-05T18:20:32.113Z"
   },
   {
    "duration": 332,
    "start_time": "2025-03-05T18:26:46.725Z"
   },
   {
    "duration": 2,
    "start_time": "2025-03-05T18:38:08.981Z"
   },
   {
    "duration": 340,
    "start_time": "2025-03-05T18:38:09.166Z"
   },
   {
    "duration": 7,
    "start_time": "2025-03-05T18:38:09.832Z"
   },
   {
    "duration": 8,
    "start_time": "2025-03-05T18:38:09.982Z"
   },
   {
    "duration": 12,
    "start_time": "2025-03-05T18:38:10.442Z"
   },
   {
    "duration": 6,
    "start_time": "2025-03-05T18:38:10.620Z"
   },
   {
    "duration": 5,
    "start_time": "2025-03-05T18:38:10.786Z"
   },
   {
    "duration": 6,
    "start_time": "2025-03-05T18:38:11.120Z"
   },
   {
    "duration": 15,
    "start_time": "2025-03-05T18:38:11.276Z"
   },
   {
    "duration": 19,
    "start_time": "2025-03-05T18:38:11.596Z"
   },
   {
    "duration": 23,
    "start_time": "2025-03-05T18:38:11.781Z"
   },
   {
    "duration": 16,
    "start_time": "2025-03-05T18:38:12.150Z"
   },
   {
    "duration": 7,
    "start_time": "2025-03-05T18:38:12.547Z"
   },
   {
    "duration": 43,
    "start_time": "2025-03-05T18:38:12.756Z"
   },
   {
    "duration": 58,
    "start_time": "2025-03-05T18:38:13.143Z"
   },
   {
    "duration": 29,
    "start_time": "2025-03-05T18:38:13.354Z"
   },
   {
    "duration": 4,
    "start_time": "2025-03-05T18:38:14.243Z"
   },
   {
    "duration": 29,
    "start_time": "2025-03-05T18:38:14.650Z"
   },
   {
    "duration": 110,
    "start_time": "2025-03-05T18:38:15.431Z"
   },
   {
    "duration": 7,
    "start_time": "2025-03-05T18:38:16.426Z"
   },
   {
    "duration": 9,
    "start_time": "2025-03-05T18:38:16.634Z"
   },
   {
    "duration": 8,
    "start_time": "2025-03-05T18:38:17.495Z"
   },
   {
    "duration": 3,
    "start_time": "2025-03-05T18:38:18.523Z"
   },
   {
    "duration": 2,
    "start_time": "2025-03-05T18:38:18.948Z"
   },
   {
    "duration": 138,
    "start_time": "2025-03-05T19:14:13.428Z"
   },
   {
    "duration": 137,
    "start_time": "2025-03-05T19:16:10.304Z"
   },
   {
    "duration": 130,
    "start_time": "2025-03-05T19:21:49.525Z"
   },
   {
    "duration": 154,
    "start_time": "2025-03-05T19:33:46.225Z"
   },
   {
    "duration": 142,
    "start_time": "2025-03-05T19:34:01.559Z"
   },
   {
    "duration": 118,
    "start_time": "2025-03-05T19:34:39.292Z"
   },
   {
    "duration": 2177,
    "start_time": "2025-03-06T14:43:51.743Z"
   },
   {
    "duration": 419,
    "start_time": "2025-03-06T14:43:53.922Z"
   },
   {
    "duration": 11,
    "start_time": "2025-03-06T14:43:54.343Z"
   },
   {
    "duration": 8,
    "start_time": "2025-03-06T14:43:54.357Z"
   },
   {
    "duration": 20,
    "start_time": "2025-03-06T14:43:54.367Z"
   },
   {
    "duration": 4,
    "start_time": "2025-03-06T14:43:54.391Z"
   },
   {
    "duration": 5,
    "start_time": "2025-03-06T14:43:54.397Z"
   },
   {
    "duration": 7,
    "start_time": "2025-03-06T14:43:54.404Z"
   },
   {
    "duration": 14,
    "start_time": "2025-03-06T14:43:54.412Z"
   },
   {
    "duration": 19,
    "start_time": "2025-03-06T14:43:54.429Z"
   },
   {
    "duration": 23,
    "start_time": "2025-03-06T14:43:54.558Z"
   },
   {
    "duration": 20,
    "start_time": "2025-03-06T14:43:54.924Z"
   },
   {
    "duration": 7,
    "start_time": "2025-03-06T14:43:55.289Z"
   },
   {
    "duration": 42,
    "start_time": "2025-03-06T14:43:55.466Z"
   },
   {
    "duration": 62,
    "start_time": "2025-03-06T14:43:55.820Z"
   },
   {
    "duration": 28,
    "start_time": "2025-03-06T14:43:55.997Z"
   },
   {
    "duration": 5,
    "start_time": "2025-03-06T14:43:56.163Z"
   },
   {
    "duration": 28,
    "start_time": "2025-03-06T14:43:56.528Z"
   },
   {
    "duration": 117,
    "start_time": "2025-03-06T14:43:56.708Z"
   },
   {
    "duration": 6,
    "start_time": "2025-03-06T14:43:57.075Z"
   },
   {
    "duration": 9,
    "start_time": "2025-03-06T14:43:57.263Z"
   },
   {
    "duration": 9,
    "start_time": "2025-03-06T14:43:57.637Z"
   },
   {
    "duration": 106,
    "start_time": "2025-03-06T14:43:58.219Z"
   },
   {
    "duration": 2,
    "start_time": "2025-03-06T14:43:58.442Z"
   },
   {
    "duration": 2,
    "start_time": "2025-03-06T14:45:58.296Z"
   },
   {
    "duration": 317,
    "start_time": "2025-03-06T15:11:45.805Z"
   },
   {
    "duration": 341,
    "start_time": "2025-03-06T15:11:47.183Z"
   },
   {
    "duration": 7,
    "start_time": "2025-03-06T15:11:48.065Z"
   },
   {
    "duration": 7,
    "start_time": "2025-03-06T15:11:48.266Z"
   },
   {
    "duration": 11,
    "start_time": "2025-03-06T15:11:48.831Z"
   },
   {
    "duration": 5,
    "start_time": "2025-03-06T15:11:49.038Z"
   },
   {
    "duration": 5,
    "start_time": "2025-03-06T15:11:49.429Z"
   },
   {
    "duration": 6,
    "start_time": "2025-03-06T15:11:49.925Z"
   },
   {
    "duration": 14,
    "start_time": "2025-03-06T15:11:50.167Z"
   },
   {
    "duration": 18,
    "start_time": "2025-03-06T15:11:50.605Z"
   },
   {
    "duration": 20,
    "start_time": "2025-03-06T15:11:50.792Z"
   },
   {
    "duration": 17,
    "start_time": "2025-03-06T15:11:51.204Z"
   },
   {
    "duration": 7,
    "start_time": "2025-03-06T15:11:51.619Z"
   },
   {
    "duration": 41,
    "start_time": "2025-03-06T15:11:51.830Z"
   },
   {
    "duration": 57,
    "start_time": "2025-03-06T15:11:52.396Z"
   },
   {
    "duration": 28,
    "start_time": "2025-03-06T15:11:52.555Z"
   },
   {
    "duration": 4,
    "start_time": "2025-03-06T15:11:54.350Z"
   },
   {
    "duration": 28,
    "start_time": "2025-03-06T15:11:54.816Z"
   },
   {
    "duration": 107,
    "start_time": "2025-03-06T15:11:55.079Z"
   },
   {
    "duration": 6,
    "start_time": "2025-03-06T15:11:55.515Z"
   },
   {
    "duration": 9,
    "start_time": "2025-03-06T15:11:55.726Z"
   },
   {
    "duration": 8,
    "start_time": "2025-03-06T15:11:56.199Z"
   },
   {
    "duration": 103,
    "start_time": "2025-03-06T15:11:56.902Z"
   },
   {
    "duration": 27,
    "start_time": "2025-03-06T15:11:57.120Z"
   },
   {
    "duration": 34,
    "start_time": "2025-03-06T15:22:32.463Z"
   },
   {
    "duration": 16,
    "start_time": "2025-03-06T15:33:39.310Z"
   },
   {
    "duration": 547,
    "start_time": "2025-03-06T15:40:48.868Z"
   },
   {
    "duration": 276,
    "start_time": "2025-03-06T15:40:58.438Z"
   },
   {
    "duration": 3,
    "start_time": "2025-03-06T18:49:09.465Z"
   },
   {
    "duration": 318,
    "start_time": "2025-03-06T18:49:09.882Z"
   },
   {
    "duration": 8,
    "start_time": "2025-03-06T18:49:10.781Z"
   },
   {
    "duration": 8,
    "start_time": "2025-03-06T18:49:11.028Z"
   },
   {
    "duration": 11,
    "start_time": "2025-03-06T18:49:11.421Z"
   },
   {
    "duration": 5,
    "start_time": "2025-03-06T18:49:11.620Z"
   },
   {
    "duration": 4,
    "start_time": "2025-03-06T18:49:11.808Z"
   },
   {
    "duration": 6,
    "start_time": "2025-03-06T18:49:12.120Z"
   },
   {
    "duration": 13,
    "start_time": "2025-03-06T18:49:12.163Z"
   },
   {
    "duration": 19,
    "start_time": "2025-03-06T18:49:12.612Z"
   },
   {
    "duration": 19,
    "start_time": "2025-03-06T18:49:12.804Z"
   },
   {
    "duration": 16,
    "start_time": "2025-03-06T18:49:13.177Z"
   },
   {
    "duration": 7,
    "start_time": "2025-03-06T18:49:13.866Z"
   },
   {
    "duration": 43,
    "start_time": "2025-03-06T18:49:14.058Z"
   },
   {
    "duration": 58,
    "start_time": "2025-03-06T18:49:14.395Z"
   },
   {
    "duration": 32,
    "start_time": "2025-03-06T18:49:14.455Z"
   },
   {
    "duration": 4,
    "start_time": "2025-03-06T18:49:14.582Z"
   },
   {
    "duration": 33,
    "start_time": "2025-03-06T18:49:14.748Z"
   },
   {
    "duration": 100,
    "start_time": "2025-03-06T18:49:14.866Z"
   },
   {
    "duration": 6,
    "start_time": "2025-03-06T18:49:15.109Z"
   },
   {
    "duration": 10,
    "start_time": "2025-03-06T18:49:15.489Z"
   },
   {
    "duration": 9,
    "start_time": "2025-03-06T18:49:15.738Z"
   },
   {
    "duration": 97,
    "start_time": "2025-03-06T18:49:16.173Z"
   },
   {
    "duration": 34,
    "start_time": "2025-03-06T18:49:16.418Z"
   },
   {
    "duration": 18,
    "start_time": "2025-03-06T18:49:16.872Z"
   },
   {
    "duration": 250,
    "start_time": "2025-03-06T18:49:17.095Z"
   },
   {
    "duration": 12,
    "start_time": "2025-03-06T18:49:18.151Z"
   },
   {
    "duration": 3,
    "start_time": "2025-03-06T18:50:11.899Z"
   },
   {
    "duration": 317,
    "start_time": "2025-03-06T18:50:12.071Z"
   },
   {
    "duration": 7,
    "start_time": "2025-03-06T18:50:12.746Z"
   },
   {
    "duration": 8,
    "start_time": "2025-03-06T18:50:12.912Z"
   },
   {
    "duration": 11,
    "start_time": "2025-03-06T18:50:13.262Z"
   },
   {
    "duration": 6,
    "start_time": "2025-03-06T18:50:13.446Z"
   },
   {
    "duration": 6,
    "start_time": "2025-03-06T18:50:13.619Z"
   },
   {
    "duration": 7,
    "start_time": "2025-03-06T18:50:13.958Z"
   },
   {
    "duration": 14,
    "start_time": "2025-03-06T18:50:14.126Z"
   },
   {
    "duration": 19,
    "start_time": "2025-03-06T18:50:14.475Z"
   },
   {
    "duration": 24,
    "start_time": "2025-03-06T18:50:14.650Z"
   },
   {
    "duration": 16,
    "start_time": "2025-03-06T18:50:14.989Z"
   },
   {
    "duration": 7,
    "start_time": "2025-03-06T18:50:15.345Z"
   },
   {
    "duration": 41,
    "start_time": "2025-03-06T18:50:15.523Z"
   },
   {
    "duration": 57,
    "start_time": "2025-03-06T18:50:15.880Z"
   },
   {
    "duration": 29,
    "start_time": "2025-03-06T18:50:16.051Z"
   },
   {
    "duration": 4,
    "start_time": "2025-03-06T18:50:16.230Z"
   },
   {
    "duration": 28,
    "start_time": "2025-03-06T18:50:16.587Z"
   },
   {
    "duration": 109,
    "start_time": "2025-03-06T18:50:16.768Z"
   },
   {
    "duration": 7,
    "start_time": "2025-03-06T18:50:17.144Z"
   },
   {
    "duration": 10,
    "start_time": "2025-03-06T18:50:17.325Z"
   },
   {
    "duration": 10,
    "start_time": "2025-03-06T18:50:17.679Z"
   },
   {
    "duration": 100,
    "start_time": "2025-03-06T18:50:18.209Z"
   },
   {
    "duration": 33,
    "start_time": "2025-03-06T18:50:18.384Z"
   },
   {
    "duration": 16,
    "start_time": "2025-03-06T18:50:18.734Z"
   },
   {
    "duration": 264,
    "start_time": "2025-03-06T18:50:18.904Z"
   },
   {
    "duration": 13,
    "start_time": "2025-03-06T18:50:19.600Z"
   },
   {
    "duration": 17,
    "start_time": "2025-03-06T18:51:44.803Z"
   },
   {
    "duration": 191,
    "start_time": "2025-03-06T18:51:56.095Z"
   },
   {
    "duration": 3,
    "start_time": "2025-03-06T18:55:36.520Z"
   },
   {
    "duration": 327,
    "start_time": "2025-03-06T18:55:36.526Z"
   },
   {
    "duration": 8,
    "start_time": "2025-03-06T18:55:36.855Z"
   },
   {
    "duration": 8,
    "start_time": "2025-03-06T18:55:36.865Z"
   },
   {
    "duration": 10,
    "start_time": "2025-03-06T18:55:36.886Z"
   },
   {
    "duration": 5,
    "start_time": "2025-03-06T18:55:36.897Z"
   },
   {
    "duration": 4,
    "start_time": "2025-03-06T18:55:36.908Z"
   },
   {
    "duration": 7,
    "start_time": "2025-03-06T18:55:36.914Z"
   },
   {
    "duration": 14,
    "start_time": "2025-03-06T18:55:36.922Z"
   },
   {
    "duration": 48,
    "start_time": "2025-03-06T18:55:36.938Z"
   },
   {
    "duration": 20,
    "start_time": "2025-03-06T18:55:36.989Z"
   },
   {
    "duration": 16,
    "start_time": "2025-03-06T18:55:37.010Z"
   },
   {
    "duration": 6,
    "start_time": "2025-03-06T18:55:37.028Z"
   },
   {
    "duration": 66,
    "start_time": "2025-03-06T18:55:37.036Z"
   },
   {
    "duration": 57,
    "start_time": "2025-03-06T18:55:37.104Z"
   },
   {
    "duration": 39,
    "start_time": "2025-03-06T18:55:37.163Z"
   },
   {
    "duration": 5,
    "start_time": "2025-03-06T18:55:37.205Z"
   },
   {
    "duration": 27,
    "start_time": "2025-03-06T18:55:37.212Z"
   },
   {
    "duration": 118,
    "start_time": "2025-03-06T18:55:37.241Z"
   },
   {
    "duration": 7,
    "start_time": "2025-03-06T18:55:37.361Z"
   },
   {
    "duration": 9,
    "start_time": "2025-03-06T18:55:39.645Z"
   },
   {
    "duration": 8,
    "start_time": "2025-03-06T18:55:39.969Z"
   },
   {
    "duration": 100,
    "start_time": "2025-03-06T18:55:40.456Z"
   },
   {
    "duration": 33,
    "start_time": "2025-03-06T18:55:40.624Z"
   },
   {
    "duration": 18,
    "start_time": "2025-03-06T18:55:41.002Z"
   },
   {
    "duration": 248,
    "start_time": "2025-03-06T18:55:41.567Z"
   },
   {
    "duration": 168,
    "start_time": "2025-03-06T18:55:42.270Z"
   },
   {
    "duration": 772,
    "start_time": "2025-03-07T18:19:26.931Z"
   },
   {
    "duration": 412,
    "start_time": "2025-03-07T18:19:27.706Z"
   },
   {
    "duration": 11,
    "start_time": "2025-03-07T18:19:28.120Z"
   },
   {
    "duration": 11,
    "start_time": "2025-03-07T18:19:28.133Z"
   },
   {
    "duration": 13,
    "start_time": "2025-03-07T18:19:28.147Z"
   },
   {
    "duration": 5,
    "start_time": "2025-03-07T18:19:28.162Z"
   },
   {
    "duration": 19,
    "start_time": "2025-03-07T18:19:28.169Z"
   },
   {
    "duration": 7,
    "start_time": "2025-03-07T18:19:28.190Z"
   },
   {
    "duration": 14,
    "start_time": "2025-03-07T18:19:28.199Z"
   },
   {
    "duration": 19,
    "start_time": "2025-03-07T18:19:28.214Z"
   },
   {
    "duration": 51,
    "start_time": "2025-03-07T18:19:28.235Z"
   },
   {
    "duration": 20,
    "start_time": "2025-03-07T18:19:28.289Z"
   },
   {
    "duration": 7,
    "start_time": "2025-03-07T18:19:28.311Z"
   },
   {
    "duration": 41,
    "start_time": "2025-03-07T18:19:28.321Z"
   },
   {
    "duration": 81,
    "start_time": "2025-03-07T18:19:28.364Z"
   },
   {
    "duration": 44,
    "start_time": "2025-03-07T18:19:28.447Z"
   },
   {
    "duration": 6,
    "start_time": "2025-03-07T18:19:28.492Z"
   },
   {
    "duration": 27,
    "start_time": "2025-03-07T18:19:28.500Z"
   },
   {
    "duration": 132,
    "start_time": "2025-03-07T18:19:28.529Z"
   },
   {
    "duration": 7,
    "start_time": "2025-03-07T18:19:28.663Z"
   },
   {
    "duration": 18,
    "start_time": "2025-03-07T18:19:28.671Z"
   },
   {
    "duration": 8,
    "start_time": "2025-03-07T18:19:28.690Z"
   },
   {
    "duration": 117,
    "start_time": "2025-03-07T18:19:28.699Z"
   },
   {
    "duration": 34,
    "start_time": "2025-03-07T18:19:28.818Z"
   },
   {
    "duration": 13,
    "start_time": "2025-03-07T18:19:28.854Z"
   },
   {
    "duration": 287,
    "start_time": "2025-03-07T18:19:28.868Z"
   },
   {
    "duration": 184,
    "start_time": "2025-03-07T18:19:29.158Z"
   },
   {
    "duration": 8,
    "start_time": "2025-03-07T18:21:44.072Z"
   },
   {
    "duration": 8,
    "start_time": "2025-03-07T18:21:54.315Z"
   },
   {
    "duration": 35,
    "start_time": "2025-03-07T18:23:05.420Z"
   },
   {
    "duration": 2537,
    "start_time": "2025-03-07T20:18:07.887Z"
   },
   {
    "duration": 4,
    "start_time": "2025-03-07T20:20:23.577Z"
   },
   {
    "duration": 424,
    "start_time": "2025-03-07T20:20:23.850Z"
   },
   {
    "duration": 10,
    "start_time": "2025-03-07T20:20:24.937Z"
   },
   {
    "duration": 8,
    "start_time": "2025-03-07T20:20:25.224Z"
   },
   {
    "duration": 13,
    "start_time": "2025-03-07T20:20:25.497Z"
   },
   {
    "duration": 5,
    "start_time": "2025-03-07T20:20:25.717Z"
   },
   {
    "duration": 4,
    "start_time": "2025-03-07T20:20:25.955Z"
   },
   {
    "duration": 7,
    "start_time": "2025-03-07T20:20:26.233Z"
   },
   {
    "duration": 14,
    "start_time": "2025-03-07T20:20:26.517Z"
   },
   {
    "duration": 18,
    "start_time": "2025-03-07T20:20:27.090Z"
   },
   {
    "duration": 22,
    "start_time": "2025-03-07T20:20:27.391Z"
   },
   {
    "duration": 20,
    "start_time": "2025-03-07T20:20:27.914Z"
   },
   {
    "duration": 7,
    "start_time": "2025-03-07T20:20:28.182Z"
   },
   {
    "duration": 42,
    "start_time": "2025-03-07T20:20:28.422Z"
   },
   {
    "duration": 62,
    "start_time": "2025-03-07T20:20:28.977Z"
   },
   {
    "duration": 31,
    "start_time": "2025-03-07T20:20:29.319Z"
   },
   {
    "duration": 5,
    "start_time": "2025-03-07T20:20:29.552Z"
   },
   {
    "duration": 28,
    "start_time": "2025-03-07T20:20:30.063Z"
   },
   {
    "duration": 122,
    "start_time": "2025-03-07T20:20:30.292Z"
   },
   {
    "duration": 7,
    "start_time": "2025-03-07T20:20:30.986Z"
   },
   {
    "duration": 13,
    "start_time": "2025-03-07T20:20:31.254Z"
   },
   {
    "duration": 10,
    "start_time": "2025-03-07T20:20:31.510Z"
   },
   {
    "duration": 221,
    "start_time": "2025-03-07T20:20:32.886Z"
   },
   {
    "duration": 112,
    "start_time": "2025-03-07T20:20:34.230Z"
   },
   {
    "duration": 3,
    "start_time": "2025-03-07T20:25:00.639Z"
   },
   {
    "duration": 336,
    "start_time": "2025-03-07T20:25:00.801Z"
   },
   {
    "duration": 7,
    "start_time": "2025-03-07T20:25:01.472Z"
   },
   {
    "duration": 8,
    "start_time": "2025-03-07T20:25:01.638Z"
   },
   {
    "duration": 12,
    "start_time": "2025-03-07T20:25:01.954Z"
   },
   {
    "duration": 6,
    "start_time": "2025-03-07T20:25:02.126Z"
   },
   {
    "duration": 5,
    "start_time": "2025-03-07T20:25:02.285Z"
   },
   {
    "duration": 9,
    "start_time": "2025-03-07T20:25:02.616Z"
   },
   {
    "duration": 14,
    "start_time": "2025-03-07T20:25:02.781Z"
   },
   {
    "duration": 20,
    "start_time": "2025-03-07T20:25:03.116Z"
   },
   {
    "duration": 21,
    "start_time": "2025-03-07T20:25:03.280Z"
   },
   {
    "duration": 22,
    "start_time": "2025-03-07T20:25:03.625Z"
   },
   {
    "duration": 7,
    "start_time": "2025-03-07T20:25:03.924Z"
   },
   {
    "duration": 45,
    "start_time": "2025-03-07T20:25:04.070Z"
   },
   {
    "duration": 69,
    "start_time": "2025-03-07T20:25:04.385Z"
   },
   {
    "duration": 29,
    "start_time": "2025-03-07T20:25:04.510Z"
   },
   {
    "duration": 5,
    "start_time": "2025-03-07T20:25:04.657Z"
   },
   {
    "duration": 29,
    "start_time": "2025-03-07T20:25:04.974Z"
   },
   {
    "duration": 110,
    "start_time": "2025-03-07T20:25:05.127Z"
   },
   {
    "duration": 7,
    "start_time": "2025-03-07T20:25:05.434Z"
   },
   {
    "duration": 9,
    "start_time": "2025-03-07T20:25:05.575Z"
   },
   {
    "duration": 8,
    "start_time": "2025-03-07T20:25:05.870Z"
   },
   {
    "duration": 9,
    "start_time": "2025-03-07T20:25:06.527Z"
   },
   {
    "duration": 112,
    "start_time": "2025-03-07T20:25:06.693Z"
   },
   {
    "duration": 476,
    "start_time": "2025-03-07T20:26:08.392Z"
   },
   {
    "duration": 150,
    "start_time": "2025-03-07T20:29:59.206Z"
   },
   {
    "duration": 288,
    "start_time": "2025-03-07T20:37:39.968Z"
   },
   {
    "duration": 249,
    "start_time": "2025-03-07T20:44:22.194Z"
   },
   {
    "duration": 230,
    "start_time": "2025-03-07T20:44:45.121Z"
   },
   {
    "duration": 340,
    "start_time": "2025-03-07T20:45:02.722Z"
   },
   {
    "duration": 269,
    "start_time": "2025-03-07T20:45:22.889Z"
   },
   {
    "duration": 267,
    "start_time": "2025-03-07T20:45:36.442Z"
   },
   {
    "duration": 240,
    "start_time": "2025-03-07T20:45:42.015Z"
   },
   {
    "duration": 253,
    "start_time": "2025-03-07T20:46:07.379Z"
   },
   {
    "duration": 239,
    "start_time": "2025-03-07T20:46:21.709Z"
   },
   {
    "duration": 3151,
    "start_time": "2025-03-07T20:54:15.531Z"
   },
   {
    "duration": 275,
    "start_time": "2025-03-07T20:54:48.472Z"
   },
   {
    "duration": 35,
    "start_time": "2025-03-07T20:57:37.719Z"
   },
   {
    "duration": 34,
    "start_time": "2025-03-07T21:07:20.675Z"
   },
   {
    "duration": 16,
    "start_time": "2025-03-07T21:07:23.067Z"
   },
   {
    "duration": 259,
    "start_time": "2025-03-07T21:07:24.099Z"
   },
   {
    "duration": 176,
    "start_time": "2025-03-07T21:07:27.873Z"
   },
   {
    "duration": 60,
    "start_time": "2025-03-07T21:11:19.714Z"
   },
   {
    "duration": 39,
    "start_time": "2025-03-07T21:43:58.063Z"
   },
   {
    "duration": 18,
    "start_time": "2025-03-07T21:44:00.531Z"
   },
   {
    "duration": 268,
    "start_time": "2025-03-07T21:44:01.216Z"
   },
   {
    "duration": 178,
    "start_time": "2025-03-07T21:44:04.399Z"
   },
   {
    "duration": 66,
    "start_time": "2025-03-07T21:44:14.116Z"
   }
  ],
  "kernelspec": {
   "display_name": "Python 3 (ipykernel)",
   "language": "python",
   "name": "python3"
  },
  "language_info": {
   "codemirror_mode": {
    "name": "ipython",
    "version": 3
   },
   "file_extension": ".py",
   "mimetype": "text/x-python",
   "name": "python",
   "nbconvert_exporter": "python",
   "pygments_lexer": "ipython3",
   "version": "3.9.19"
  },
  "toc": {
   "base_numbering": 1,
   "nav_menu": {},
   "number_sections": true,
   "sideBar": true,
   "skip_h1_title": true,
   "title_cell": "Table of Contents",
   "title_sidebar": "Contents",
   "toc_cell": false,
   "toc_position": {},
   "toc_section_display": true,
   "toc_window_display": false
  }
 },
 "nbformat": 4,
 "nbformat_minor": 2
}
